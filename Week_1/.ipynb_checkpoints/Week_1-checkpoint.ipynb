{
 "cells": [
  {
   "cell_type": "code",
   "execution_count": 8,
   "id": "89b9a020",
   "metadata": {},
   "outputs": [
    {
     "name": "stdout",
     "output_type": "stream",
     "text": [
      "Enter Principal: 1000\n",
      "Enter Rate: 5\n",
      "Enter Time: 3\n",
      "A =  1150.0\n"
     ]
    }
   ],
   "source": [
    "P = int(input(\"Enter Principal: \"))\n",
    "R = int(input(\"Enter Rate: \"))\n",
    "T = int(input(\"Enter Time: \"))\n",
    "\n",
    "A = P*(1+(R/100.0)*T)\n",
    "\n",
    "print(\"A = \",A)"
   ]
  },
  {
   "cell_type": "code",
   "execution_count": 1,
   "id": "9457db45",
   "metadata": {},
   "outputs": [
    {
     "name": "stdout",
     "output_type": "stream",
     "text": [
      "Enter Principal: 1000\n",
      "Enter Rate: 5\n",
      "Enter number: 2\n",
      "Enter Time: 3\n",
      "A =  36750.0\n"
     ]
    }
   ],
   "source": [
    "P = int(input(\"Enter Principal: \"))\n",
    "R = int(input(\"Enter Rate: \"))\n",
    "n = int(input(\"Enter number: \"))\n",
    "T = int(input(\"Enter Time: \"))\n",
    "\n",
    "A = P*(1+R/n)**n*T\n",
    "\n",
    "print(\"A = \",A)"
   ]
  },
  {
   "cell_type": "code",
   "execution_count": 2,
   "id": "a302bf9e",
   "metadata": {},
   "outputs": [
    {
     "name": "stdout",
     "output_type": "stream",
     "text": [
      "Enter Principal: 1000\n",
      "Enter Rate: 5\n",
      "Enter number: 2\n",
      "Enter time: 3\n",
      "Enter Payment: 50\n",
      "A =  178.75\n"
     ]
    }
   ],
   "source": [
    "P = int(input(\"Enter Principal: \"))\n",
    "R = int(input(\"Enter Rate: \"))\n",
    "n = int(input(\"Enter number: \"))\n",
    "t = int(input(\"Enter time: \"))\n",
    "PMT = int(input(\"Enter Payment: \"))\n",
    "\n",
    "A = PMT*((1+R/n)**n*t-1)/R/n\n",
    "\n",
    "print(\"A = \",A)\n"
   ]
  },
  {
   "cell_type": "code",
   "execution_count": null,
   "id": "ddbcd508",
   "metadata": {},
   "outputs": [],
   "source": []
  }
 ],
 "metadata": {
  "kernelspec": {
   "display_name": "Python 3 (ipykernel)",
   "language": "python",
   "name": "python3"
  },
  "language_info": {
   "codemirror_mode": {
    "name": "ipython",
    "version": 3
   },
   "file_extension": ".py",
   "mimetype": "text/x-python",
   "name": "python",
   "nbconvert_exporter": "python",
   "pygments_lexer": "ipython3",
   "version": "3.10.9"
  }
 },
 "nbformat": 4,
 "nbformat_minor": 5
}
