{
 "cells": [
  {
   "cell_type": "code",
   "execution_count": 2,
   "id": "268edc89",
   "metadata": {},
   "outputs": [
    {
     "ename": "SyntaxError",
     "evalue": "invalid decimal literal (3712895885.py, line 5)",
     "output_type": "error",
     "traceback": [
      "\u001b[1;36m  Cell \u001b[1;32mIn[2], line 5\u001b[1;36m\u001b[0m\n\u001b[1;33m    D = (b**2.0-4.0*A*C)/2A\u001b[0m\n\u001b[1;37m                         ^\u001b[0m\n\u001b[1;31mSyntaxError\u001b[0m\u001b[1;31m:\u001b[0m invalid decimal literal\n"
     ]
    }
   ],
   "source": [
    "A = int(input(\"Enter the value of A in the Quadratic Formula: \"))\n",
    "B = int(input(\"Enter the value of B in the Quadratic Formula: \"))\n",
    "C = int(input(\"Enter the value of C in the quadratic Formula: \"))\n",
    "\n",
    "D = (b**2.0-4.0*A*C)/2A\n",
    "\n",
    "if D > 0:\n",
    "    print(\"Two real solutions\")\n",
    "\n",
    "if D < 0:\n",
    "    print(\"One real solution\")\n",
    "    \n",
    "if D = 0:\n",
    "    print(\"No real solution\")\n",
    "    \n",
    "\n"
   ]
  },
  {
   "cell_type": "code",
   "execution_count": null,
   "id": "a260e20d",
   "metadata": {},
   "outputs": [],
   "source": []
  },
  {
   "cell_type": "code",
   "execution_count": null,
   "id": "e414e1a7",
   "metadata": {},
   "outputs": [],
   "source": []
  },
  {
   "cell_type": "code",
   "execution_count": null,
   "id": "5009bcf3",
   "metadata": {},
   "outputs": [],
   "source": []
  }
 ],
 "metadata": {
  "kernelspec": {
   "display_name": "Python 3 (ipykernel)",
   "language": "python",
   "name": "python3"
  },
  "language_info": {
   "codemirror_mode": {
    "name": "ipython",
    "version": 3
   },
   "file_extension": ".py",
   "mimetype": "text/x-python",
   "name": "python",
   "nbconvert_exporter": "python",
   "pygments_lexer": "ipython3",
   "version": "3.10.9"
  }
 },
 "nbformat": 4,
 "nbformat_minor": 5
}
